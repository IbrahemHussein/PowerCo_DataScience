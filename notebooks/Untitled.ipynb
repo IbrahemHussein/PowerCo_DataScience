{
 "cells": [
  {
   "cell_type": "code",
   "execution_count": 2,
   "id": "7ac6cea5",
   "metadata": {},
   "outputs": [
    {
     "name": "stderr",
     "output_type": "stream",
     "text": [
      "Matplotlib is building the font cache; this may take a moment.\n"
     ]
    },
    {
     "ename": "ModuleNotFoundError",
     "evalue": "No module named 'kilb'",
     "output_type": "error",
     "traceback": [
      "\u001b[1;31m---------------------------------------------------------------------------\u001b[0m",
      "\u001b[1;31mModuleNotFoundError\u001b[0m                       Traceback (most recent call last)",
      "Cell \u001b[1;32mIn[2], line 5\u001b[0m\n\u001b[0;32m      3\u001b[0m \u001b[38;5;28;01mimport\u001b[39;00m \u001b[38;5;21;01mmatplotlib\u001b[39;00m\u001b[38;5;21;01m.\u001b[39;00m\u001b[38;5;21;01mpyplot\u001b[39;00m \u001b[38;5;28;01mas\u001b[39;00m \u001b[38;5;21;01mplt\u001b[39;00m \n\u001b[0;32m      4\u001b[0m \u001b[38;5;28;01mimport\u001b[39;00m \u001b[38;5;21;01mseaborn\u001b[39;00m \u001b[38;5;28;01mas\u001b[39;00m \u001b[38;5;21;01msns\u001b[39;00m \n\u001b[1;32m----> 5\u001b[0m \u001b[38;5;28;01mimport\u001b[39;00m \u001b[38;5;21;01mkilb\u001b[39;00m\n",
      "\u001b[1;31mModuleNotFoundError\u001b[0m: No module named 'kilb'"
     ]
    }
   ],
   "source": [
    "import pandas as pd\n",
    "import numpy as np\n",
    "import matplotlib.pyplot as plt \n",
    "import seaborn as sns \n",
    "import kilb"
   ]
  },
  {
   "cell_type": "code",
   "execution_count": 1,
   "id": "5606fa84",
   "metadata": {},
   "outputs": [
    {
     "name": "stdout",
     "output_type": "stream",
     "text": [
      "Collecting klib\n",
      "  Obtaining dependency information for klib from https://files.pythonhosted.org/packages/96/d5/4978eb763ed5dea42633df2ff2db9893bd70091ca5469383b3da7b8352f7/klib-1.1.2-py3-none-any.whl.metadata\n",
      "  Downloading klib-1.1.2-py3-none-any.whl.metadata (7.6 kB)\n",
      "Requirement already satisfied: Jinja2<4.0.0,>=3.0.3 in c:\\users\\ebrahim\\anaconda3\\lib\\site-packages (from klib) (3.1.2)\n",
      "Requirement already satisfied: matplotlib<4.0.0,>=3.0.3 in c:\\users\\ebrahim\\anaconda3\\lib\\site-packages (from klib) (3.7.2)\n",
      "Requirement already satisfied: numpy<2.0.0,>=1.16.3 in c:\\users\\ebrahim\\anaconda3\\lib\\site-packages (from klib) (1.24.3)\n",
      "Requirement already satisfied: pandas<3.0,>=1.2 in c:\\users\\ebrahim\\anaconda3\\lib\\site-packages (from klib) (2.0.3)\n",
      "Requirement already satisfied: plotly<6.0.0,>=5.2.2 in c:\\users\\ebrahim\\anaconda3\\lib\\site-packages (from klib) (5.9.0)\n",
      "Requirement already satisfied: scipy<2.0.0,>=1.1.0 in c:\\users\\ebrahim\\anaconda3\\lib\\site-packages (from klib) (1.11.1)\n",
      "Collecting screeninfo<0.9.0,>=0.8.1 (from klib)\n",
      "  Downloading screeninfo-0.8.1-py3-none-any.whl (12 kB)\n",
      "Requirement already satisfied: seaborn>=0.11.2 in c:\\users\\ebrahim\\anaconda3\\lib\\site-packages (from klib) (0.12.2)\n",
      "Requirement already satisfied: MarkupSafe>=2.0 in c:\\users\\ebrahim\\anaconda3\\lib\\site-packages (from Jinja2<4.0.0,>=3.0.3->klib) (2.1.1)\n",
      "Requirement already satisfied: contourpy>=1.0.1 in c:\\users\\ebrahim\\anaconda3\\lib\\site-packages (from matplotlib<4.0.0,>=3.0.3->klib) (1.0.5)\n",
      "Requirement already satisfied: cycler>=0.10 in c:\\users\\ebrahim\\anaconda3\\lib\\site-packages (from matplotlib<4.0.0,>=3.0.3->klib) (0.11.0)\n",
      "Requirement already satisfied: fonttools>=4.22.0 in c:\\users\\ebrahim\\anaconda3\\lib\\site-packages (from matplotlib<4.0.0,>=3.0.3->klib) (4.25.0)\n",
      "Requirement already satisfied: kiwisolver>=1.0.1 in c:\\users\\ebrahim\\anaconda3\\lib\\site-packages (from matplotlib<4.0.0,>=3.0.3->klib) (1.4.4)\n",
      "Requirement already satisfied: packaging>=20.0 in c:\\users\\ebrahim\\anaconda3\\lib\\site-packages (from matplotlib<4.0.0,>=3.0.3->klib) (23.1)\n",
      "Requirement already satisfied: pillow>=6.2.0 in c:\\users\\ebrahim\\anaconda3\\lib\\site-packages (from matplotlib<4.0.0,>=3.0.3->klib) (9.4.0)\n",
      "Requirement already satisfied: pyparsing<3.1,>=2.3.1 in c:\\users\\ebrahim\\anaconda3\\lib\\site-packages (from matplotlib<4.0.0,>=3.0.3->klib) (3.0.9)\n",
      "Requirement already satisfied: python-dateutil>=2.7 in c:\\users\\ebrahim\\anaconda3\\lib\\site-packages (from matplotlib<4.0.0,>=3.0.3->klib) (2.8.2)\n",
      "Requirement already satisfied: pytz>=2020.1 in c:\\users\\ebrahim\\anaconda3\\lib\\site-packages (from pandas<3.0,>=1.2->klib) (2023.3.post1)\n",
      "Requirement already satisfied: tzdata>=2022.1 in c:\\users\\ebrahim\\anaconda3\\lib\\site-packages (from pandas<3.0,>=1.2->klib) (2023.3)\n",
      "Requirement already satisfied: tenacity>=6.2.0 in c:\\users\\ebrahim\\anaconda3\\lib\\site-packages (from plotly<6.0.0,>=5.2.2->klib) (8.2.2)\n",
      "Requirement already satisfied: six>=1.5 in c:\\users\\ebrahim\\anaconda3\\lib\\site-packages (from python-dateutil>=2.7->matplotlib<4.0.0,>=3.0.3->klib) (1.16.0)\n",
      "Downloading klib-1.1.2-py3-none-any.whl (22 kB)\n",
      "Installing collected packages: screeninfo, klib\n",
      "Successfully installed klib-1.1.2 screeninfo-0.8.1\n",
      "Note: you may need to restart the kernel to use updated packages.\n"
     ]
    }
   ],
   "source": []
  }
 ],
 "metadata": {
  "kernelspec": {
   "display_name": "Python 3 (ipykernel)",
   "language": "python",
   "name": "python3"
  },
  "language_info": {
   "codemirror_mode": {
    "name": "ipython",
    "version": 3
   },
   "file_extension": ".py",
   "mimetype": "text/x-python",
   "name": "python",
   "nbconvert_exporter": "python",
   "pygments_lexer": "ipython3",
   "version": "3.11.5"
  }
 },
 "nbformat": 4,
 "nbformat_minor": 5
}
